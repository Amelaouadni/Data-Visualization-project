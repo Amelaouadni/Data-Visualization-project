{
  "nbformat": 4,
  "nbformat_minor": 0,
  "metadata": {
    "colab": {
      "name": "data viz1.ipynb",
      "provenance": [],
      "collapsed_sections": [],
      "machine_shape": "hm",
      "authorship_tag": "ABX9TyMm9wvMNFseNyhZQivLhAOu",
      "include_colab_link": true
    },
    "kernelspec": {
      "name": "python3",
      "display_name": "Python 3"
    }
  },
  "cells": [
    {
      "cell_type": "markdown",
      "metadata": {
        "id": "view-in-github",
        "colab_type": "text"
      },
      "source": [
        "<a href=\"https://colab.research.google.com/github/Amelaouadni/Data-Visualization-project/blob/master/data_viz1.ipynb\" target=\"_parent\"><img src=\"https://colab.research.google.com/assets/colab-badge.svg\" alt=\"Open In Colab\"/></a>"
      ]
    },
    {
      "cell_type": "code",
      "metadata": {
        "id": "4TxFYpExF78k",
        "colab_type": "code",
        "colab": {}
      },
      "source": [
        "import pandas as pd\n",
        "import numpy as np \n",
        "import seaborn as sns\n",
        "import matplotlib.pyplot as plt \n",
        "from datetime import *\n",
        "import pytz"
      ],
      "execution_count": 0,
      "outputs": []
    },
    {
      "cell_type": "code",
      "metadata": {
        "id": "elhuqeQmGcBG",
        "colab_type": "code",
        "outputId": "f7304b63-02c9-4def-b702-f50a712a2daf",
        "colab": {
          "base_uri": "https://localhost:8080/",
          "height": 234
        }
      },
      "source": [
        "data1 = pd.read_csv('/content/sample_data/matched_sales.tsv',sep='\\t')\n",
        "data1.head()"
      ],
      "execution_count": 40,
      "outputs": [
        {
          "output_type": "execute_result",
          "data": {
            "text/html": [
              "<div>\n",
              "<style scoped>\n",
              "    .dataframe tbody tr th:only-of-type {\n",
              "        vertical-align: middle;\n",
              "    }\n",
              "\n",
              "    .dataframe tbody tr th {\n",
              "        vertical-align: top;\n",
              "    }\n",
              "\n",
              "    .dataframe thead th {\n",
              "        text-align: right;\n",
              "    }\n",
              "</style>\n",
              "<table border=\"1\" class=\"dataframe\">\n",
              "  <thead>\n",
              "    <tr style=\"text-align: right;\">\n",
              "      <th></th>\n",
              "      <th>Timestamp</th>\n",
              "      <th>Environment</th>\n",
              "      <th>Os</th>\n",
              "      <th>Device</th>\n",
              "      <th>Campaign ID</th>\n",
              "      <th>User ID</th>\n",
              "      <th>Context ID</th>\n",
              "      <th>Transaction ID</th>\n",
              "      <th>Order Value</th>\n",
              "    </tr>\n",
              "  </thead>\n",
              "  <tbody>\n",
              "    <tr>\n",
              "      <th>0</th>\n",
              "      <td>1569889040</td>\n",
              "      <td>web</td>\n",
              "      <td>Windows</td>\n",
              "      <td>Desktop</td>\n",
              "      <td>113450</td>\n",
              "      <td>2EEEE2185BB347E07653128DDD7946B4</td>\n",
              "      <td>6</td>\n",
              "      <td>687260E81F123BF7B22EB42E2CC740D9</td>\n",
              "      <td>32.08</td>\n",
              "    </tr>\n",
              "    <tr>\n",
              "      <th>1</th>\n",
              "      <td>1569890180</td>\n",
              "      <td>web</td>\n",
              "      <td>Android</td>\n",
              "      <td>Smartphone</td>\n",
              "      <td>137914</td>\n",
              "      <td>18F4B9C704A39843FE4354E1E2091942</td>\n",
              "      <td>8</td>\n",
              "      <td>4CA9C121F6F94CD135F4A6F4934D4843</td>\n",
              "      <td>149.92</td>\n",
              "    </tr>\n",
              "    <tr>\n",
              "      <th>2</th>\n",
              "      <td>1569890704</td>\n",
              "      <td>web</td>\n",
              "      <td>Windows</td>\n",
              "      <td>Desktop</td>\n",
              "      <td>137914</td>\n",
              "      <td>513CD8C04005C7ED66F34CD98C63C455</td>\n",
              "      <td>9</td>\n",
              "      <td>F44BB650A3149704B9F86EF8796E6604</td>\n",
              "      <td>125.10</td>\n",
              "    </tr>\n",
              "    <tr>\n",
              "      <th>3</th>\n",
              "      <td>1569892066</td>\n",
              "      <td>web</td>\n",
              "      <td>Android</td>\n",
              "      <td>Smartphone</td>\n",
              "      <td>137914</td>\n",
              "      <td>1620E50E507DDF33489D80D7423111DF</td>\n",
              "      <td>7</td>\n",
              "      <td>5E022540529ECBCB947C04D969260287</td>\n",
              "      <td>95.95</td>\n",
              "    </tr>\n",
              "    <tr>\n",
              "      <th>4</th>\n",
              "      <td>1569892673</td>\n",
              "      <td>web</td>\n",
              "      <td>Windows</td>\n",
              "      <td>Desktop</td>\n",
              "      <td>137914</td>\n",
              "      <td>85AC7958028EFF2231B4962D3611D2D3</td>\n",
              "      <td>6</td>\n",
              "      <td>8428EF0717350A6C843B91957A30464B</td>\n",
              "      <td>83.54</td>\n",
              "    </tr>\n",
              "  </tbody>\n",
              "</table>\n",
              "</div>"
            ],
            "text/plain": [
              "    Timestamp Environment  ...                    Transaction ID Order Value\n",
              "0  1569889040         web  ...  687260E81F123BF7B22EB42E2CC740D9       32.08\n",
              "1  1569890180         web  ...  4CA9C121F6F94CD135F4A6F4934D4843      149.92\n",
              "2  1569890704         web  ...  F44BB650A3149704B9F86EF8796E6604      125.10\n",
              "3  1569892066         web  ...  5E022540529ECBCB947C04D969260287       95.95\n",
              "4  1569892673         web  ...  8428EF0717350A6C843B91957A30464B       83.54\n",
              "\n",
              "[5 rows x 9 columns]"
            ]
          },
          "metadata": {
            "tags": []
          },
          "execution_count": 40
        }
      ]
    },
    {
      "cell_type": "code",
      "metadata": {
        "id": "Yt5nUtq5IENV",
        "colab_type": "code",
        "outputId": "b832ab95-c80b-42ad-a0cf-83424507be3f",
        "colab": {
          "base_uri": "https://localhost:8080/",
          "height": 34
        }
      },
      "source": [
        "data1.shape"
      ],
      "execution_count": 41,
      "outputs": [
        {
          "output_type": "execute_result",
          "data": {
            "text/plain": [
              "(356495, 9)"
            ]
          },
          "metadata": {
            "tags": []
          },
          "execution_count": 41
        }
      ]
    },
    {
      "cell_type": "code",
      "metadata": {
        "id": "FCP7oDUWIRHr",
        "colab_type": "code",
        "outputId": "ff534ebc-72a2-4e8a-b798-25772335d93b",
        "colab": {
          "base_uri": "https://localhost:8080/",
          "height": 70
        }
      },
      "source": [
        "data1.columns"
      ],
      "execution_count": 42,
      "outputs": [
        {
          "output_type": "execute_result",
          "data": {
            "text/plain": [
              "Index(['Timestamp', 'Environment', 'Os', 'Device', 'Campaign ID', 'User ID',\n",
              "       'Context ID', 'Transaction ID', 'Order Value'],\n",
              "      dtype='object')"
            ]
          },
          "metadata": {
            "tags": []
          },
          "execution_count": 42
        }
      ]
    },
    {
      "cell_type": "code",
      "metadata": {
        "id": "FO-t89HbIhT4",
        "colab_type": "code",
        "outputId": "2d4c41d3-d9ff-47b9-d1ea-818544f89a2d",
        "colab": {
          "base_uri": "https://localhost:8080/",
          "height": 265
        }
      },
      "source": [
        "data1.tail"
      ],
      "execution_count": 43,
      "outputs": [
        {
          "output_type": "execute_result",
          "data": {
            "text/plain": [
              "<bound method NDFrame.tail of          Timestamp Environment  ...                    Transaction ID Order Value\n",
              "0       1569889040         web  ...  687260E81F123BF7B22EB42E2CC740D9       32.08\n",
              "1       1569890180         web  ...  4CA9C121F6F94CD135F4A6F4934D4843      149.92\n",
              "2       1569890704         web  ...  F44BB650A3149704B9F86EF8796E6604      125.10\n",
              "3       1569892066         web  ...  5E022540529ECBCB947C04D969260287       95.95\n",
              "4       1569892673         web  ...  8428EF0717350A6C843B91957A30464B       83.54\n",
              "...            ...         ...  ...                               ...         ...\n",
              "356490  1580428309         web  ...  07AAE637FC7D22011D0DD25E849C38A0      113.62\n",
              "356491  1580428354         app  ...  98284C20476453E08AA52833CE898504       33.26\n",
              "356492  1580428713         web  ...  8742D5FE075EF51C8D0CFDC94727598A       35.67\n",
              "356493  1580428777         web  ...  42F3D3207A07090CC98ABCB70023D430       54.13\n",
              "356494  1580428781         web  ...  7CAFF22A32A7646F401072CDE52C4908       16.31\n",
              "\n",
              "[356495 rows x 9 columns]>"
            ]
          },
          "metadata": {
            "tags": []
          },
          "execution_count": 43
        }
      ]
    },
    {
      "cell_type": "code",
      "metadata": {
        "id": "Zayynga6Ixoo",
        "colab_type": "code",
        "outputId": "364bd6d7-c3bb-44cb-9aae-ecebbe24797a",
        "colab": {
          "base_uri": "https://localhost:8080/",
          "height": 301
        }
      },
      "source": [
        "data1.info()"
      ],
      "execution_count": 44,
      "outputs": [
        {
          "output_type": "stream",
          "text": [
            "<class 'pandas.core.frame.DataFrame'>\n",
            "RangeIndex: 356495 entries, 0 to 356494\n",
            "Data columns (total 9 columns):\n",
            " #   Column          Non-Null Count   Dtype  \n",
            "---  ------          --------------   -----  \n",
            " 0   Timestamp       356495 non-null  int64  \n",
            " 1   Environment     356495 non-null  object \n",
            " 2   Os              356495 non-null  object \n",
            " 3   Device          356495 non-null  object \n",
            " 4   Campaign ID     356495 non-null  int64  \n",
            " 5   User ID         356495 non-null  object \n",
            " 6   Context ID      356495 non-null  int64  \n",
            " 7   Transaction ID  356466 non-null  object \n",
            " 8   Order Value     356495 non-null  float64\n",
            "dtypes: float64(1), int64(3), object(5)\n",
            "memory usage: 24.5+ MB\n"
          ],
          "name": "stdout"
        }
      ]
    },
    {
      "cell_type": "markdown",
      "metadata": {
        "id": "WYxZ2L-fIpZ9",
        "colab_type": "text"
      },
      "source": [
        "**Question 1.1:**\n"
      ]
    },
    {
      "cell_type": "code",
      "metadata": {
        "id": "_FCZRUWgIl2p",
        "colab_type": "code",
        "colab": {}
      },
      "source": [
        "data1 = data1.drop_duplicates(subset='Transaction ID', keep=\"first\")"
      ],
      "execution_count": 0,
      "outputs": []
    },
    {
      "cell_type": "code",
      "metadata": {
        "id": "JINF8iuzIsUZ",
        "colab_type": "code",
        "outputId": "7d4c642a-879d-40ee-e63c-98a9f7d9c759",
        "colab": {
          "base_uri": "https://localhost:8080/",
          "height": 301
        }
      },
      "source": [
        "data1.info()"
      ],
      "execution_count": 46,
      "outputs": [
        {
          "output_type": "stream",
          "text": [
            "<class 'pandas.core.frame.DataFrame'>\n",
            "Int64Index: 355858 entries, 0 to 356494\n",
            "Data columns (total 9 columns):\n",
            " #   Column          Non-Null Count   Dtype  \n",
            "---  ------          --------------   -----  \n",
            " 0   Timestamp       355858 non-null  int64  \n",
            " 1   Environment     355858 non-null  object \n",
            " 2   Os              355858 non-null  object \n",
            " 3   Device          355858 non-null  object \n",
            " 4   Campaign ID     355858 non-null  int64  \n",
            " 5   User ID         355858 non-null  object \n",
            " 6   Context ID      355858 non-null  int64  \n",
            " 7   Transaction ID  355857 non-null  object \n",
            " 8   Order Value     355858 non-null  float64\n",
            "dtypes: float64(1), int64(3), object(5)\n",
            "memory usage: 27.1+ MB\n"
          ],
          "name": "stdout"
        }
      ]
    },
    {
      "cell_type": "code",
      "metadata": {
        "id": "GVOru2cmIuwP",
        "colab_type": "code",
        "colab": {
          "base_uri": "https://localhost:8080/",
          "height": 105
        },
        "outputId": "89007911-519a-42a0-93ee-13949377bfec"
      },
      "source": [
        "data1.drop(data1[data1['Order Value']==0].index, inplace=True)"
      ],
      "execution_count": 47,
      "outputs": [
        {
          "output_type": "stream",
          "text": [
            "/usr/local/lib/python3.6/dist-packages/pandas/core/frame.py:3997: SettingWithCopyWarning: \n",
            "A value is trying to be set on a copy of a slice from a DataFrame\n",
            "\n",
            "See the caveats in the documentation: https://pandas.pydata.org/pandas-docs/stable/user_guide/indexing.html#returning-a-view-versus-a-copy\n",
            "  errors=errors,\n"
          ],
          "name": "stderr"
        }
      ]
    },
    {
      "cell_type": "code",
      "metadata": {
        "id": "bTv9ZBgCJCER",
        "colab_type": "code",
        "outputId": "f495d35e-0a3a-4564-be41-4ce23c797951",
        "colab": {
          "base_uri": "https://localhost:8080/",
          "height": 301
        }
      },
      "source": [
        "data1.info()"
      ],
      "execution_count": 48,
      "outputs": [
        {
          "output_type": "stream",
          "text": [
            "<class 'pandas.core.frame.DataFrame'>\n",
            "Int64Index: 354201 entries, 0 to 356494\n",
            "Data columns (total 9 columns):\n",
            " #   Column          Non-Null Count   Dtype  \n",
            "---  ------          --------------   -----  \n",
            " 0   Timestamp       354201 non-null  int64  \n",
            " 1   Environment     354201 non-null  object \n",
            " 2   Os              354201 non-null  object \n",
            " 3   Device          354201 non-null  object \n",
            " 4   Campaign ID     354201 non-null  int64  \n",
            " 5   User ID         354201 non-null  object \n",
            " 6   Context ID      354201 non-null  int64  \n",
            " 7   Transaction ID  354201 non-null  object \n",
            " 8   Order Value     354201 non-null  float64\n",
            "dtypes: float64(1), int64(3), object(5)\n",
            "memory usage: 27.0+ MB\n"
          ],
          "name": "stdout"
        }
      ]
    },
    {
      "cell_type": "markdown",
      "metadata": {
        "id": "U57mzWLxJHq2",
        "colab_type": "text"
      },
      "source": [
        "**Question 1.2:**"
      ]
    },
    {
      "cell_type": "code",
      "metadata": {
        "id": "KMRuyy1CJEwd",
        "colab_type": "code",
        "outputId": "3c9ed751-20be-4eef-96f7-5427fd39ac13",
        "colab": {
          "base_uri": "https://localhost:8080/",
          "height": 1000
        }
      },
      "source": [
        "for tz in pytz.all_timezones:\n",
        "        print(tz)"
      ],
      "execution_count": 49,
      "outputs": [
        {
          "output_type": "stream",
          "text": [
            "Africa/Abidjan\n",
            "Africa/Accra\n",
            "Africa/Addis_Ababa\n",
            "Africa/Algiers\n",
            "Africa/Asmara\n",
            "Africa/Asmera\n",
            "Africa/Bamako\n",
            "Africa/Bangui\n",
            "Africa/Banjul\n",
            "Africa/Bissau\n",
            "Africa/Blantyre\n",
            "Africa/Brazzaville\n",
            "Africa/Bujumbura\n",
            "Africa/Cairo\n",
            "Africa/Casablanca\n",
            "Africa/Ceuta\n",
            "Africa/Conakry\n",
            "Africa/Dakar\n",
            "Africa/Dar_es_Salaam\n",
            "Africa/Djibouti\n",
            "Africa/Douala\n",
            "Africa/El_Aaiun\n",
            "Africa/Freetown\n",
            "Africa/Gaborone\n",
            "Africa/Harare\n",
            "Africa/Johannesburg\n",
            "Africa/Juba\n",
            "Africa/Kampala\n",
            "Africa/Khartoum\n",
            "Africa/Kigali\n",
            "Africa/Kinshasa\n",
            "Africa/Lagos\n",
            "Africa/Libreville\n",
            "Africa/Lome\n",
            "Africa/Luanda\n",
            "Africa/Lubumbashi\n",
            "Africa/Lusaka\n",
            "Africa/Malabo\n",
            "Africa/Maputo\n",
            "Africa/Maseru\n",
            "Africa/Mbabane\n",
            "Africa/Mogadishu\n",
            "Africa/Monrovia\n",
            "Africa/Nairobi\n",
            "Africa/Ndjamena\n",
            "Africa/Niamey\n",
            "Africa/Nouakchott\n",
            "Africa/Ouagadougou\n",
            "Africa/Porto-Novo\n",
            "Africa/Sao_Tome\n",
            "Africa/Timbuktu\n",
            "Africa/Tripoli\n",
            "Africa/Tunis\n",
            "Africa/Windhoek\n",
            "America/Adak\n",
            "America/Anchorage\n",
            "America/Anguilla\n",
            "America/Antigua\n",
            "America/Araguaina\n",
            "America/Argentina/Buenos_Aires\n",
            "America/Argentina/Catamarca\n",
            "America/Argentina/ComodRivadavia\n",
            "America/Argentina/Cordoba\n",
            "America/Argentina/Jujuy\n",
            "America/Argentina/La_Rioja\n",
            "America/Argentina/Mendoza\n",
            "America/Argentina/Rio_Gallegos\n",
            "America/Argentina/Salta\n",
            "America/Argentina/San_Juan\n",
            "America/Argentina/San_Luis\n",
            "America/Argentina/Tucuman\n",
            "America/Argentina/Ushuaia\n",
            "America/Aruba\n",
            "America/Asuncion\n",
            "America/Atikokan\n",
            "America/Atka\n",
            "America/Bahia\n",
            "America/Bahia_Banderas\n",
            "America/Barbados\n",
            "America/Belem\n",
            "America/Belize\n",
            "America/Blanc-Sablon\n",
            "America/Boa_Vista\n",
            "America/Bogota\n",
            "America/Boise\n",
            "America/Buenos_Aires\n",
            "America/Cambridge_Bay\n",
            "America/Campo_Grande\n",
            "America/Cancun\n",
            "America/Caracas\n",
            "America/Catamarca\n",
            "America/Cayenne\n",
            "America/Cayman\n",
            "America/Chicago\n",
            "America/Chihuahua\n",
            "America/Coral_Harbour\n",
            "America/Cordoba\n",
            "America/Costa_Rica\n",
            "America/Creston\n",
            "America/Cuiaba\n",
            "America/Curacao\n",
            "America/Danmarkshavn\n",
            "America/Dawson\n",
            "America/Dawson_Creek\n",
            "America/Denver\n",
            "America/Detroit\n",
            "America/Dominica\n",
            "America/Edmonton\n",
            "America/Eirunepe\n",
            "America/El_Salvador\n",
            "America/Ensenada\n",
            "America/Fort_Nelson\n",
            "America/Fort_Wayne\n",
            "America/Fortaleza\n",
            "America/Glace_Bay\n",
            "America/Godthab\n",
            "America/Goose_Bay\n",
            "America/Grand_Turk\n",
            "America/Grenada\n",
            "America/Guadeloupe\n",
            "America/Guatemala\n",
            "America/Guayaquil\n",
            "America/Guyana\n",
            "America/Halifax\n",
            "America/Havana\n",
            "America/Hermosillo\n",
            "America/Indiana/Indianapolis\n",
            "America/Indiana/Knox\n",
            "America/Indiana/Marengo\n",
            "America/Indiana/Petersburg\n",
            "America/Indiana/Tell_City\n",
            "America/Indiana/Vevay\n",
            "America/Indiana/Vincennes\n",
            "America/Indiana/Winamac\n",
            "America/Indianapolis\n",
            "America/Inuvik\n",
            "America/Iqaluit\n",
            "America/Jamaica\n",
            "America/Jujuy\n",
            "America/Juneau\n",
            "America/Kentucky/Louisville\n",
            "America/Kentucky/Monticello\n",
            "America/Knox_IN\n",
            "America/Kralendijk\n",
            "America/La_Paz\n",
            "America/Lima\n",
            "America/Los_Angeles\n",
            "America/Louisville\n",
            "America/Lower_Princes\n",
            "America/Maceio\n",
            "America/Managua\n",
            "America/Manaus\n",
            "America/Marigot\n",
            "America/Martinique\n",
            "America/Matamoros\n",
            "America/Mazatlan\n",
            "America/Mendoza\n",
            "America/Menominee\n",
            "America/Merida\n",
            "America/Metlakatla\n",
            "America/Mexico_City\n",
            "America/Miquelon\n",
            "America/Moncton\n",
            "America/Monterrey\n",
            "America/Montevideo\n",
            "America/Montreal\n",
            "America/Montserrat\n",
            "America/Nassau\n",
            "America/New_York\n",
            "America/Nipigon\n",
            "America/Nome\n",
            "America/Noronha\n",
            "America/North_Dakota/Beulah\n",
            "America/North_Dakota/Center\n",
            "America/North_Dakota/New_Salem\n",
            "America/Ojinaga\n",
            "America/Panama\n",
            "America/Pangnirtung\n",
            "America/Paramaribo\n",
            "America/Phoenix\n",
            "America/Port-au-Prince\n",
            "America/Port_of_Spain\n",
            "America/Porto_Acre\n",
            "America/Porto_Velho\n",
            "America/Puerto_Rico\n",
            "America/Punta_Arenas\n",
            "America/Rainy_River\n",
            "America/Rankin_Inlet\n",
            "America/Recife\n",
            "America/Regina\n",
            "America/Resolute\n",
            "America/Rio_Branco\n",
            "America/Rosario\n",
            "America/Santa_Isabel\n",
            "America/Santarem\n",
            "America/Santiago\n",
            "America/Santo_Domingo\n",
            "America/Sao_Paulo\n",
            "America/Scoresbysund\n",
            "America/Shiprock\n",
            "America/Sitka\n",
            "America/St_Barthelemy\n",
            "America/St_Johns\n",
            "America/St_Kitts\n",
            "America/St_Lucia\n",
            "America/St_Thomas\n",
            "America/St_Vincent\n",
            "America/Swift_Current\n",
            "America/Tegucigalpa\n",
            "America/Thule\n",
            "America/Thunder_Bay\n",
            "America/Tijuana\n",
            "America/Toronto\n",
            "America/Tortola\n",
            "America/Vancouver\n",
            "America/Virgin\n",
            "America/Whitehorse\n",
            "America/Winnipeg\n",
            "America/Yakutat\n",
            "America/Yellowknife\n",
            "Antarctica/Casey\n",
            "Antarctica/Davis\n",
            "Antarctica/DumontDUrville\n",
            "Antarctica/Macquarie\n",
            "Antarctica/Mawson\n",
            "Antarctica/McMurdo\n",
            "Antarctica/Palmer\n",
            "Antarctica/Rothera\n",
            "Antarctica/South_Pole\n",
            "Antarctica/Syowa\n",
            "Antarctica/Troll\n",
            "Antarctica/Vostok\n",
            "Arctic/Longyearbyen\n",
            "Asia/Aden\n",
            "Asia/Almaty\n",
            "Asia/Amman\n",
            "Asia/Anadyr\n",
            "Asia/Aqtau\n",
            "Asia/Aqtobe\n",
            "Asia/Ashgabat\n",
            "Asia/Ashkhabad\n",
            "Asia/Atyrau\n",
            "Asia/Baghdad\n",
            "Asia/Bahrain\n",
            "Asia/Baku\n",
            "Asia/Bangkok\n",
            "Asia/Barnaul\n",
            "Asia/Beirut\n",
            "Asia/Bishkek\n",
            "Asia/Brunei\n",
            "Asia/Calcutta\n",
            "Asia/Chita\n",
            "Asia/Choibalsan\n",
            "Asia/Chongqing\n",
            "Asia/Chungking\n",
            "Asia/Colombo\n",
            "Asia/Dacca\n",
            "Asia/Damascus\n",
            "Asia/Dhaka\n",
            "Asia/Dili\n",
            "Asia/Dubai\n",
            "Asia/Dushanbe\n",
            "Asia/Famagusta\n",
            "Asia/Gaza\n",
            "Asia/Harbin\n",
            "Asia/Hebron\n",
            "Asia/Ho_Chi_Minh\n",
            "Asia/Hong_Kong\n",
            "Asia/Hovd\n",
            "Asia/Irkutsk\n",
            "Asia/Istanbul\n",
            "Asia/Jakarta\n",
            "Asia/Jayapura\n",
            "Asia/Jerusalem\n",
            "Asia/Kabul\n",
            "Asia/Kamchatka\n",
            "Asia/Karachi\n",
            "Asia/Kashgar\n",
            "Asia/Kathmandu\n",
            "Asia/Katmandu\n",
            "Asia/Khandyga\n",
            "Asia/Kolkata\n",
            "Asia/Krasnoyarsk\n",
            "Asia/Kuala_Lumpur\n",
            "Asia/Kuching\n",
            "Asia/Kuwait\n",
            "Asia/Macao\n",
            "Asia/Macau\n",
            "Asia/Magadan\n",
            "Asia/Makassar\n",
            "Asia/Manila\n",
            "Asia/Muscat\n",
            "Asia/Nicosia\n",
            "Asia/Novokuznetsk\n",
            "Asia/Novosibirsk\n",
            "Asia/Omsk\n",
            "Asia/Oral\n",
            "Asia/Phnom_Penh\n",
            "Asia/Pontianak\n",
            "Asia/Pyongyang\n",
            "Asia/Qatar\n",
            "Asia/Qostanay\n",
            "Asia/Qyzylorda\n",
            "Asia/Rangoon\n",
            "Asia/Riyadh\n",
            "Asia/Saigon\n",
            "Asia/Sakhalin\n",
            "Asia/Samarkand\n",
            "Asia/Seoul\n",
            "Asia/Shanghai\n",
            "Asia/Singapore\n",
            "Asia/Srednekolymsk\n",
            "Asia/Taipei\n",
            "Asia/Tashkent\n",
            "Asia/Tbilisi\n",
            "Asia/Tehran\n",
            "Asia/Tel_Aviv\n",
            "Asia/Thimbu\n",
            "Asia/Thimphu\n",
            "Asia/Tokyo\n",
            "Asia/Tomsk\n",
            "Asia/Ujung_Pandang\n",
            "Asia/Ulaanbaatar\n",
            "Asia/Ulan_Bator\n",
            "Asia/Urumqi\n",
            "Asia/Ust-Nera\n",
            "Asia/Vientiane\n",
            "Asia/Vladivostok\n",
            "Asia/Yakutsk\n",
            "Asia/Yangon\n",
            "Asia/Yekaterinburg\n",
            "Asia/Yerevan\n",
            "Atlantic/Azores\n",
            "Atlantic/Bermuda\n",
            "Atlantic/Canary\n",
            "Atlantic/Cape_Verde\n",
            "Atlantic/Faeroe\n",
            "Atlantic/Faroe\n",
            "Atlantic/Jan_Mayen\n",
            "Atlantic/Madeira\n",
            "Atlantic/Reykjavik\n",
            "Atlantic/South_Georgia\n",
            "Atlantic/St_Helena\n",
            "Atlantic/Stanley\n",
            "Australia/ACT\n",
            "Australia/Adelaide\n",
            "Australia/Brisbane\n",
            "Australia/Broken_Hill\n",
            "Australia/Canberra\n",
            "Australia/Currie\n",
            "Australia/Darwin\n",
            "Australia/Eucla\n",
            "Australia/Hobart\n",
            "Australia/LHI\n",
            "Australia/Lindeman\n",
            "Australia/Lord_Howe\n",
            "Australia/Melbourne\n",
            "Australia/NSW\n",
            "Australia/North\n",
            "Australia/Perth\n",
            "Australia/Queensland\n",
            "Australia/South\n",
            "Australia/Sydney\n",
            "Australia/Tasmania\n",
            "Australia/Victoria\n",
            "Australia/West\n",
            "Australia/Yancowinna\n",
            "Brazil/Acre\n",
            "Brazil/DeNoronha\n",
            "Brazil/East\n",
            "Brazil/West\n",
            "CET\n",
            "CST6CDT\n",
            "Canada/Atlantic\n",
            "Canada/Central\n",
            "Canada/Eastern\n",
            "Canada/Mountain\n",
            "Canada/Newfoundland\n",
            "Canada/Pacific\n",
            "Canada/Saskatchewan\n",
            "Canada/Yukon\n",
            "Chile/Continental\n",
            "Chile/EasterIsland\n",
            "Cuba\n",
            "EET\n",
            "EST\n",
            "EST5EDT\n",
            "Egypt\n",
            "Eire\n",
            "Etc/GMT\n",
            "Etc/GMT+0\n",
            "Etc/GMT+1\n",
            "Etc/GMT+10\n",
            "Etc/GMT+11\n",
            "Etc/GMT+12\n",
            "Etc/GMT+2\n",
            "Etc/GMT+3\n",
            "Etc/GMT+4\n",
            "Etc/GMT+5\n",
            "Etc/GMT+6\n",
            "Etc/GMT+7\n",
            "Etc/GMT+8\n",
            "Etc/GMT+9\n",
            "Etc/GMT-0\n",
            "Etc/GMT-1\n",
            "Etc/GMT-10\n",
            "Etc/GMT-11\n",
            "Etc/GMT-12\n",
            "Etc/GMT-13\n",
            "Etc/GMT-14\n",
            "Etc/GMT-2\n",
            "Etc/GMT-3\n",
            "Etc/GMT-4\n",
            "Etc/GMT-5\n",
            "Etc/GMT-6\n",
            "Etc/GMT-7\n",
            "Etc/GMT-8\n",
            "Etc/GMT-9\n",
            "Etc/GMT0\n",
            "Etc/Greenwich\n",
            "Etc/UCT\n",
            "Etc/UTC\n",
            "Etc/Universal\n",
            "Etc/Zulu\n",
            "Europe/Amsterdam\n",
            "Europe/Andorra\n",
            "Europe/Astrakhan\n",
            "Europe/Athens\n",
            "Europe/Belfast\n",
            "Europe/Belgrade\n",
            "Europe/Berlin\n",
            "Europe/Bratislava\n",
            "Europe/Brussels\n",
            "Europe/Bucharest\n",
            "Europe/Budapest\n",
            "Europe/Busingen\n",
            "Europe/Chisinau\n",
            "Europe/Copenhagen\n",
            "Europe/Dublin\n",
            "Europe/Gibraltar\n",
            "Europe/Guernsey\n",
            "Europe/Helsinki\n",
            "Europe/Isle_of_Man\n",
            "Europe/Istanbul\n",
            "Europe/Jersey\n",
            "Europe/Kaliningrad\n",
            "Europe/Kiev\n",
            "Europe/Kirov\n",
            "Europe/Lisbon\n",
            "Europe/Ljubljana\n",
            "Europe/London\n",
            "Europe/Luxembourg\n",
            "Europe/Madrid\n",
            "Europe/Malta\n",
            "Europe/Mariehamn\n",
            "Europe/Minsk\n",
            "Europe/Monaco\n",
            "Europe/Moscow\n",
            "Europe/Nicosia\n",
            "Europe/Oslo\n",
            "Europe/Paris\n",
            "Europe/Podgorica\n",
            "Europe/Prague\n",
            "Europe/Riga\n",
            "Europe/Rome\n",
            "Europe/Samara\n",
            "Europe/San_Marino\n",
            "Europe/Sarajevo\n",
            "Europe/Saratov\n",
            "Europe/Simferopol\n",
            "Europe/Skopje\n",
            "Europe/Sofia\n",
            "Europe/Stockholm\n",
            "Europe/Tallinn\n",
            "Europe/Tirane\n",
            "Europe/Tiraspol\n",
            "Europe/Ulyanovsk\n",
            "Europe/Uzhgorod\n",
            "Europe/Vaduz\n",
            "Europe/Vatican\n",
            "Europe/Vienna\n",
            "Europe/Vilnius\n",
            "Europe/Volgograd\n",
            "Europe/Warsaw\n",
            "Europe/Zagreb\n",
            "Europe/Zaporozhye\n",
            "Europe/Zurich\n",
            "GB\n",
            "GB-Eire\n",
            "GMT\n",
            "GMT+0\n",
            "GMT-0\n",
            "GMT0\n",
            "Greenwich\n",
            "HST\n",
            "Hongkong\n",
            "Iceland\n",
            "Indian/Antananarivo\n",
            "Indian/Chagos\n",
            "Indian/Christmas\n",
            "Indian/Cocos\n",
            "Indian/Comoro\n",
            "Indian/Kerguelen\n",
            "Indian/Mahe\n",
            "Indian/Maldives\n",
            "Indian/Mauritius\n",
            "Indian/Mayotte\n",
            "Indian/Reunion\n",
            "Iran\n",
            "Israel\n",
            "Jamaica\n",
            "Japan\n",
            "Kwajalein\n",
            "Libya\n",
            "MET\n",
            "MST\n",
            "MST7MDT\n",
            "Mexico/BajaNorte\n",
            "Mexico/BajaSur\n",
            "Mexico/General\n",
            "NZ\n",
            "NZ-CHAT\n",
            "Navajo\n",
            "PRC\n",
            "PST8PDT\n",
            "Pacific/Apia\n",
            "Pacific/Auckland\n",
            "Pacific/Bougainville\n",
            "Pacific/Chatham\n",
            "Pacific/Chuuk\n",
            "Pacific/Easter\n",
            "Pacific/Efate\n",
            "Pacific/Enderbury\n",
            "Pacific/Fakaofo\n",
            "Pacific/Fiji\n",
            "Pacific/Funafuti\n",
            "Pacific/Galapagos\n",
            "Pacific/Gambier\n",
            "Pacific/Guadalcanal\n",
            "Pacific/Guam\n",
            "Pacific/Honolulu\n",
            "Pacific/Johnston\n",
            "Pacific/Kiritimati\n",
            "Pacific/Kosrae\n",
            "Pacific/Kwajalein\n",
            "Pacific/Majuro\n",
            "Pacific/Marquesas\n",
            "Pacific/Midway\n",
            "Pacific/Nauru\n",
            "Pacific/Niue\n",
            "Pacific/Norfolk\n",
            "Pacific/Noumea\n",
            "Pacific/Pago_Pago\n",
            "Pacific/Palau\n",
            "Pacific/Pitcairn\n",
            "Pacific/Pohnpei\n",
            "Pacific/Ponape\n",
            "Pacific/Port_Moresby\n",
            "Pacific/Rarotonga\n",
            "Pacific/Saipan\n",
            "Pacific/Samoa\n",
            "Pacific/Tahiti\n",
            "Pacific/Tarawa\n",
            "Pacific/Tongatapu\n",
            "Pacific/Truk\n",
            "Pacific/Wake\n",
            "Pacific/Wallis\n",
            "Pacific/Yap\n",
            "Poland\n",
            "Portugal\n",
            "ROC\n",
            "ROK\n",
            "Singapore\n",
            "Turkey\n",
            "UCT\n",
            "US/Alaska\n",
            "US/Aleutian\n",
            "US/Arizona\n",
            "US/Central\n",
            "US/East-Indiana\n",
            "US/Eastern\n",
            "US/Hawaii\n",
            "US/Indiana-Starke\n",
            "US/Michigan\n",
            "US/Mountain\n",
            "US/Pacific\n",
            "US/Samoa\n",
            "UTC\n",
            "Universal\n",
            "W-SU\n",
            "WET\n",
            "Zulu\n"
          ],
          "name": "stdout"
        }
      ]
    },
    {
      "cell_type": "markdown",
      "metadata": {
        "id": "3MFtTSYhpp1A",
        "colab_type": "text"
      },
      "source": [
        "**Question 1.3**"
      ]
    },
    {
      "cell_type": "code",
      "metadata": {
        "id": "llrumWhFijHC",
        "colab_type": "code",
        "outputId": "f6f5721c-8bd3-4023-c8af-e931aee24abe",
        "colab": {
          "base_uri": "https://localhost:8080/",
          "height": 230
        }
      },
      "source": [
        "\n",
        "from datetime import datetime\n",
        "\n",
        "date= pd.to_datetime(data1['Timestamp'], unit='s',errors='coerce')\n",
        "date"
      ],
      "execution_count": 50,
      "outputs": [
        {
          "output_type": "execute_result",
          "data": {
            "text/plain": [
              "0        2019-10-01 00:17:20\n",
              "1        2019-10-01 00:36:20\n",
              "2        2019-10-01 00:45:04\n",
              "3        2019-10-01 01:07:46\n",
              "4        2019-10-01 01:17:53\n",
              "                 ...        \n",
              "356490   2020-01-30 23:51:49\n",
              "356491   2020-01-30 23:52:34\n",
              "356492   2020-01-30 23:58:33\n",
              "356493   2020-01-30 23:59:37\n",
              "356494   2020-01-30 23:59:41\n",
              "Name: Timestamp, Length: 354201, dtype: datetime64[ns]"
            ]
          },
          "metadata": {
            "tags": []
          },
          "execution_count": 50
        }
      ]
    },
    {
      "cell_type": "code",
      "metadata": {
        "id": "TfLrL5ZTQAVz",
        "colab_type": "code",
        "outputId": "110bc791-477d-4105-de27-d47096f0b4be",
        "colab": {
          "base_uri": "https://localhost:8080/",
          "height": 301
        }
      },
      "source": [
        "data1.dropna(subset=['Order Value'])\n",
        "data1.info()"
      ],
      "execution_count": 51,
      "outputs": [
        {
          "output_type": "stream",
          "text": [
            "<class 'pandas.core.frame.DataFrame'>\n",
            "Int64Index: 354201 entries, 0 to 356494\n",
            "Data columns (total 9 columns):\n",
            " #   Column          Non-Null Count   Dtype  \n",
            "---  ------          --------------   -----  \n",
            " 0   Timestamp       354201 non-null  int64  \n",
            " 1   Environment     354201 non-null  object \n",
            " 2   Os              354201 non-null  object \n",
            " 3   Device          354201 non-null  object \n",
            " 4   Campaign ID     354201 non-null  int64  \n",
            " 5   User ID         354201 non-null  object \n",
            " 6   Context ID      354201 non-null  int64  \n",
            " 7   Transaction ID  354201 non-null  object \n",
            " 8   Order Value     354201 non-null  float64\n",
            "dtypes: float64(1), int64(3), object(5)\n",
            "memory usage: 27.0+ MB\n"
          ],
          "name": "stdout"
        }
      ]
    },
    {
      "cell_type": "code",
      "metadata": {
        "colab_type": "code",
        "outputId": "a4ab7b67-d558-4dca-b08b-2d2ff4d58880",
        "id": "4yLRwpUEQngO",
        "colab": {
          "base_uri": "https://localhost:8080/",
          "height": 1000
        }
      },
      "source": [
        "d1=data1.get(\"Order Value\")\n",
        "s=0\n",
        "X=[]\n",
        "for i in range(len(d1)):\n",
        "    try:\n",
        "      s=s+d1[i]\n",
        "      X.append(s)\n",
        "    except KeyError :\n",
        "      X.append(0)\n",
        "fig = plt.figure(figsize=(20,20))  \n",
        "plt.plot(date,X)\n",
        "plt.show() "
      ],
      "execution_count": 53,
      "outputs": [
        {
          "output_type": "display_data",
          "data": {
            "image/png": "[encoded data removed]",
            "text/plain": [
              "<Figure size 1440x1440 with 1 Axes>"
            ]
          },
          "metadata": {
            "tags": []
          }
        }
      ]
    },
    {
      "cell_type": "markdown",
      "metadata": {
        "id": "dJFVSZzSJPsl",
        "colab_type": "text"
      },
      "source": [
        "Question 1.4:"
      ]
    },
    {
      "cell_type": "code",
      "metadata": {
        "id": "sa6qovaUJMcv",
        "colab_type": "code",
        "outputId": "d45bd5f7-5c22-4e5c-b908-43494193e42b",
        "colab": {
          "base_uri": "https://localhost:8080/",
          "height": 406
        }
      },
      "source": [
        "data1.isnull()"
      ],
      "execution_count": 0,
      "outputs": [
        {
          "output_type": "execute_result",
          "data": {
            "text/html": [
              "<div>\n",
              "<style scoped>\n",
              "    .dataframe tbody tr th:only-of-type {\n",
              "        vertical-align: middle;\n",
              "    }\n",
              "\n",
              "    .dataframe tbody tr th {\n",
              "        vertical-align: top;\n",
              "    }\n",
              "\n",
              "    .dataframe thead th {\n",
              "        text-align: right;\n",
              "    }\n",
              "</style>\n",
              "<table border=\"1\" class=\"dataframe\">\n",
              "  <thead>\n",
              "    <tr style=\"text-align: right;\">\n",
              "      <th></th>\n",
              "      <th>Timestamp</th>\n",
              "      <th>Environment</th>\n",
              "      <th>Os</th>\n",
              "      <th>Device</th>\n",
              "      <th>Campaign ID</th>\n",
              "      <th>User ID</th>\n",
              "      <th>Context ID</th>\n",
              "      <th>Transaction ID</th>\n",
              "      <th>Order Value</th>\n",
              "    </tr>\n",
              "  </thead>\n",
              "  <tbody>\n",
              "    <tr>\n",
              "      <th>0</th>\n",
              "      <td>False</td>\n",
              "      <td>False</td>\n",
              "      <td>False</td>\n",
              "      <td>False</td>\n",
              "      <td>False</td>\n",
              "      <td>False</td>\n",
              "      <td>False</td>\n",
              "      <td>False</td>\n",
              "      <td>False</td>\n",
              "    </tr>\n",
              "    <tr>\n",
              "      <th>1</th>\n",
              "      <td>False</td>\n",
              "      <td>False</td>\n",
              "      <td>False</td>\n",
              "      <td>False</td>\n",
              "      <td>False</td>\n",
              "      <td>False</td>\n",
              "      <td>False</td>\n",
              "      <td>False</td>\n",
              "      <td>False</td>\n",
              "    </tr>\n",
              "    <tr>\n",
              "      <th>2</th>\n",
              "      <td>False</td>\n",
              "      <td>False</td>\n",
              "      <td>False</td>\n",
              "      <td>False</td>\n",
              "      <td>False</td>\n",
              "      <td>False</td>\n",
              "      <td>False</td>\n",
              "      <td>False</td>\n",
              "      <td>False</td>\n",
              "    </tr>\n",
              "    <tr>\n",
              "      <th>3</th>\n",
              "      <td>False</td>\n",
              "      <td>False</td>\n",
              "      <td>False</td>\n",
              "      <td>False</td>\n",
              "      <td>False</td>\n",
              "      <td>False</td>\n",
              "      <td>False</td>\n",
              "      <td>False</td>\n",
              "      <td>False</td>\n",
              "    </tr>\n",
              "    <tr>\n",
              "      <th>4</th>\n",
              "      <td>False</td>\n",
              "      <td>False</td>\n",
              "      <td>False</td>\n",
              "      <td>False</td>\n",
              "      <td>False</td>\n",
              "      <td>False</td>\n",
              "      <td>False</td>\n",
              "      <td>False</td>\n",
              "      <td>False</td>\n",
              "    </tr>\n",
              "    <tr>\n",
              "      <th>...</th>\n",
              "      <td>...</td>\n",
              "      <td>...</td>\n",
              "      <td>...</td>\n",
              "      <td>...</td>\n",
              "      <td>...</td>\n",
              "      <td>...</td>\n",
              "      <td>...</td>\n",
              "      <td>...</td>\n",
              "      <td>...</td>\n",
              "    </tr>\n",
              "    <tr>\n",
              "      <th>356490</th>\n",
              "      <td>False</td>\n",
              "      <td>False</td>\n",
              "      <td>False</td>\n",
              "      <td>False</td>\n",
              "      <td>False</td>\n",
              "      <td>False</td>\n",
              "      <td>False</td>\n",
              "      <td>False</td>\n",
              "      <td>False</td>\n",
              "    </tr>\n",
              "    <tr>\n",
              "      <th>356491</th>\n",
              "      <td>False</td>\n",
              "      <td>False</td>\n",
              "      <td>False</td>\n",
              "      <td>False</td>\n",
              "      <td>False</td>\n",
              "      <td>False</td>\n",
              "      <td>False</td>\n",
              "      <td>False</td>\n",
              "      <td>False</td>\n",
              "    </tr>\n",
              "    <tr>\n",
              "      <th>356492</th>\n",
              "      <td>False</td>\n",
              "      <td>False</td>\n",
              "      <td>False</td>\n",
              "      <td>False</td>\n",
              "      <td>False</td>\n",
              "      <td>False</td>\n",
              "      <td>False</td>\n",
              "      <td>False</td>\n",
              "      <td>False</td>\n",
              "    </tr>\n",
              "    <tr>\n",
              "      <th>356493</th>\n",
              "      <td>False</td>\n",
              "      <td>False</td>\n",
              "      <td>False</td>\n",
              "      <td>False</td>\n",
              "      <td>False</td>\n",
              "      <td>False</td>\n",
              "      <td>False</td>\n",
              "      <td>False</td>\n",
              "      <td>False</td>\n",
              "    </tr>\n",
              "    <tr>\n",
              "      <th>356494</th>\n",
              "      <td>False</td>\n",
              "      <td>False</td>\n",
              "      <td>False</td>\n",
              "      <td>False</td>\n",
              "      <td>False</td>\n",
              "      <td>False</td>\n",
              "      <td>False</td>\n",
              "      <td>False</td>\n",
              "      <td>False</td>\n",
              "    </tr>\n",
              "  </tbody>\n",
              "</table>\n",
              "<p>354201 rows × 9 columns</p>\n",
              "</div>"
            ],
            "text/plain": [
              "        Timestamp  Environment     Os  ...  Context ID  Transaction ID  Order Value\n",
              "0           False        False  False  ...       False           False        False\n",
              "1           False        False  False  ...       False           False        False\n",
              "2           False        False  False  ...       False           False        False\n",
              "3           False        False  False  ...       False           False        False\n",
              "4           False        False  False  ...       False           False        False\n",
              "...           ...          ...    ...  ...         ...             ...          ...\n",
              "356490      False        False  False  ...       False           False        False\n",
              "356491      False        False  False  ...       False           False        False\n",
              "356492      False        False  False  ...       False           False        False\n",
              "356493      False        False  False  ...       False           False        False\n",
              "356494      False        False  False  ...       False           False        False\n",
              "\n",
              "[354201 rows x 9 columns]"
            ]
          },
          "metadata": {
            "tags": []
          },
          "execution_count": 14
        }
      ]
    },
    {
      "cell_type": "code",
      "metadata": {
        "id": "E_X1qxaILr2n",
        "colab_type": "code",
        "outputId": "57bc9f8a-fa4a-4e13-d1ec-02feb389d097",
        "colab": {
          "base_uri": "https://localhost:8080/",
          "height": 361
        }
      },
      "source": [
        "g = sns.relplot(x=\"Os\", y=\"Order Value\", kind=\"line\", data=data1)\n",
        "g.fig.autofmt_xdate()"
      ],
      "execution_count": 0,
      "outputs": [
        {
          "output_type": "display_data",
          "data": {
            "image/png": "[encoded data removed]",
            "text/plain": [
              "<Figure size 360x360 with 1 Axes>"
            ]
          },
          "metadata": {
            "tags": [],
            "needs_background": "light"
          }
        }
      ]
    },
    {
      "cell_type": "markdown",
      "metadata": {
        "id": "5mabs9gFLy2s",
        "colab_type": "text"
      },
      "source": [
        "**Question2 :**"
      ]
    },
    {
      "cell_type": "code",
      "metadata": {
        "id": "6zsIW1ahLuvn",
        "colab_type": "code",
        "outputId": "eb9b4998-3a65-45cb-f8e8-cae579bf6f77",
        "colab": {
          "base_uri": "https://localhost:8080/",
          "height": 297
        }
      },
      "source": [
        "data2 = pd.read_csv(\"/content/sample_data/campaigns_delivery.tsv\", sep='\\t')\n",
        "data2.head()"
      ],
      "execution_count": 54,
      "outputs": [
        {
          "output_type": "execute_result",
          "data": {
            "text/html": [
              "<div>\n",
              "<style scoped>\n",
              "    .dataframe tbody tr th:only-of-type {\n",
              "        vertical-align: middle;\n",
              "    }\n",
              "\n",
              "    .dataframe tbody tr th {\n",
              "        vertical-align: top;\n",
              "    }\n",
              "\n",
              "    .dataframe thead th {\n",
              "        text-align: right;\n",
              "    }\n",
              "</style>\n",
              "<table border=\"1\" class=\"dataframe\">\n",
              "  <thead>\n",
              "    <tr style=\"text-align: right;\">\n",
              "      <th></th>\n",
              "      <th>Day</th>\n",
              "      <th>Environment</th>\n",
              "      <th>Os</th>\n",
              "      <th>Campaign ID</th>\n",
              "      <th>Campaign Optimization</th>\n",
              "      <th>Campaign Type</th>\n",
              "      <th>Context IDs Eligible</th>\n",
              "      <th>Number of displays</th>\n",
              "      <th>Number of clicks</th>\n",
              "      <th>Criteo Revenue</th>\n",
              "      <th>Criteo Cost</th>\n",
              "    </tr>\n",
              "  </thead>\n",
              "  <tbody>\n",
              "    <tr>\n",
              "      <th>0</th>\n",
              "      <td>2019-10-13</td>\n",
              "      <td>app</td>\n",
              "      <td>Android</td>\n",
              "      <td>194439</td>\n",
              "      <td>Visit Optimization</td>\n",
              "      <td>MID FUNNEL CUSTOM</td>\n",
              "      <td>0-6,10</td>\n",
              "      <td>11487</td>\n",
              "      <td>199</td>\n",
              "      <td>1.223468</td>\n",
              "      <td>0.635936</td>\n",
              "    </tr>\n",
              "    <tr>\n",
              "      <th>1</th>\n",
              "      <td>2019-10-16</td>\n",
              "      <td>web</td>\n",
              "      <td>Windows</td>\n",
              "      <td>194439</td>\n",
              "      <td>Visit Optimization</td>\n",
              "      <td>MID FUNNEL CUSTOM</td>\n",
              "      <td>0-6,10</td>\n",
              "      <td>0</td>\n",
              "      <td>0</td>\n",
              "      <td>0.000000</td>\n",
              "      <td>0.000000</td>\n",
              "    </tr>\n",
              "    <tr>\n",
              "      <th>2</th>\n",
              "      <td>2019-11-08</td>\n",
              "      <td>app</td>\n",
              "      <td>Android</td>\n",
              "      <td>194439</td>\n",
              "      <td>Visit Optimization</td>\n",
              "      <td>MID FUNNEL CUSTOM</td>\n",
              "      <td>0-6,10</td>\n",
              "      <td>0</td>\n",
              "      <td>0</td>\n",
              "      <td>0.000000</td>\n",
              "      <td>0.000000</td>\n",
              "    </tr>\n",
              "    <tr>\n",
              "      <th>3</th>\n",
              "      <td>2019-10-11</td>\n",
              "      <td>web</td>\n",
              "      <td>Mac OS</td>\n",
              "      <td>194439</td>\n",
              "      <td>Visit Optimization</td>\n",
              "      <td>MID FUNNEL CUSTOM</td>\n",
              "      <td>0-6,10</td>\n",
              "      <td>2102</td>\n",
              "      <td>21</td>\n",
              "      <td>1.392722</td>\n",
              "      <td>0.842206</td>\n",
              "    </tr>\n",
              "    <tr>\n",
              "      <th>4</th>\n",
              "      <td>2019-10-16</td>\n",
              "      <td>app</td>\n",
              "      <td>Android</td>\n",
              "      <td>194439</td>\n",
              "      <td>Visit Optimization</td>\n",
              "      <td>MID FUNNEL CUSTOM</td>\n",
              "      <td>0-6,10</td>\n",
              "      <td>0</td>\n",
              "      <td>0</td>\n",
              "      <td>0.000000</td>\n",
              "      <td>0.000000</td>\n",
              "    </tr>\n",
              "  </tbody>\n",
              "</table>\n",
              "</div>"
            ],
            "text/plain": [
              "          Day Environment  ... Criteo Revenue  Criteo Cost\n",
              "0  2019-10-13         app  ...       1.223468     0.635936\n",
              "1  2019-10-16         web  ...       0.000000     0.000000\n",
              "2  2019-11-08         app  ...       0.000000     0.000000\n",
              "3  2019-10-11         web  ...       1.392722     0.842206\n",
              "4  2019-10-16         app  ...       0.000000     0.000000\n",
              "\n",
              "[5 rows x 11 columns]"
            ]
          },
          "metadata": {
            "tags": []
          },
          "execution_count": 54
        }
      ]
    },
    {
      "cell_type": "code",
      "metadata": {
        "id": "HHjdSLUSL59s",
        "colab_type": "code",
        "outputId": "535db033-cbb3-42c8-a46d-14405e244bda",
        "colab": {
          "base_uri": "https://localhost:8080/",
          "height": 87
        }
      },
      "source": [
        "data2.columns"
      ],
      "execution_count": 55,
      "outputs": [
        {
          "output_type": "execute_result",
          "data": {
            "text/plain": [
              "Index(['Day', 'Environment', 'Os', 'Campaign ID', 'Campaign Optimization',\n",
              "       'Campaign Type', 'Context IDs Eligible', 'Number of displays',\n",
              "       'Number of clicks', 'Criteo Revenue', 'Criteo Cost'],\n",
              "      dtype='object')"
            ]
          },
          "metadata": {
            "tags": []
          },
          "execution_count": 55
        }
      ]
    },
    {
      "cell_type": "code",
      "metadata": {
        "id": "4UvvxF1xL8Hn",
        "colab_type": "code",
        "outputId": "fda9e83a-b11b-4cc0-93be-224bff7c750c",
        "colab": {
          "base_uri": "https://localhost:8080/",
          "height": 34
        }
      },
      "source": [
        "data2.shape"
      ],
      "execution_count": 56,
      "outputs": [
        {
          "output_type": "execute_result",
          "data": {
            "text/plain": [
              "(8828, 11)"
            ]
          },
          "metadata": {
            "tags": []
          },
          "execution_count": 56
        }
      ]
    },
    {
      "cell_type": "markdown",
      "metadata": {
        "id": "jyJtYo0sqBKr",
        "colab_type": "text"
      },
      "source": [
        "**Question 2.1:**"
      ]
    },
    {
      "cell_type": "code",
      "metadata": {
        "id": "B6-W0GVfWZl0",
        "colab_type": "code",
        "outputId": "8ff168d8-80db-415f-a6c9-d8b71fe234df",
        "colab": {
          "base_uri": "https://localhost:8080/",
          "height": 34
        }
      },
      "source": [
        "d1= data2[\"Criteo Cost\"]\n",
        "d2=data2[\"Criteo Revenue\"]\n",
        "mr = d2 - d1 \n",
        "avg = sum(mr)/len(mr)\n",
        "print(\"The average Criteo margin  is \", round(avg,2))"
      ],
      "execution_count": 57,
      "outputs": [
        {
          "output_type": "stream",
          "text": [
            "The average Criteo margin  is  130.52\n"
          ],
          "name": "stdout"
        }
      ]
    },
    {
      "cell_type": "markdown",
      "metadata": {
        "id": "WJD55yMZqJVl",
        "colab_type": "text"
      },
      "source": [
        "**Question 2.2:**"
      ]
    },
    {
      "cell_type": "code",
      "metadata": {
        "id": "QJ7ab_gcWhZo",
        "colab_type": "code",
        "outputId": "032f42a6-c2a1-4659-cf7c-328d0eaad8a5",
        "colab": {
          "base_uri": "https://localhost:8080/",
          "height": 302
        }
      },
      "source": [
        "L= data2[\"Day\"]\n",
        "margin =[\"mr\"]\n",
        "width = 0.35  \n",
        "fig = plt.figure(figsize=(20,20))\n",
        "\n",
        "fig, ax = plt.subplots(1)\n",
        "\n",
        "ax.bar(margin, L )\n",
        "\n",
        "ax.set_title('the margin over time') \n",
        "\n",
        "\n",
        "plt.show()"
      ],
      "execution_count": 59,
      "outputs": [
        {
          "output_type": "display_data",
          "data": {
            "text/plain": [
              "<Figure size 1440x1440 with 0 Axes>"
            ]
          },
          "metadata": {
            "tags": []
          }
        },
        {
          "output_type": "display_data",
          "data": {
            "image/png": "[encoded data removed]",
            "text/plain": [
              "<Figure size 432x288 with 1 Axes>"
            ]
          },
          "metadata": {
            "tags": []
          }
        }
      ]
    },
    {
      "cell_type": "code",
      "metadata": {
        "id": "Js9YlWDMpUXn",
        "colab_type": "code",
        "outputId": "c0b155e0-1b62-416c-b28a-29b850b5836e",
        "colab": {
          "base_uri": "https://localhost:8080/",
          "height": 297
        }
      },
      "source": [
        "data2['weekday'] = pd.to_datetime(data2['Day']).apply(lambda x: x.weekday())\n",
        "weekday= data2['weekday']\n",
        "data2.head()"
      ],
      "execution_count": 60,
      "outputs": [
        {
          "output_type": "execute_result",
          "data": {
            "text/html": [
              "<div>\n",
              "<style scoped>\n",
              "    .dataframe tbody tr th:only-of-type {\n",
              "        vertical-align: middle;\n",
              "    }\n",
              "\n",
              "    .dataframe tbody tr th {\n",
              "        vertical-align: top;\n",
              "    }\n",
              "\n",
              "    .dataframe thead th {\n",
              "        text-align: right;\n",
              "    }\n",
              "</style>\n",
              "<table border=\"1\" class=\"dataframe\">\n",
              "  <thead>\n",
              "    <tr style=\"text-align: right;\">\n",
              "      <th></th>\n",
              "      <th>Day</th>\n",
              "      <th>Environment</th>\n",
              "      <th>Os</th>\n",
              "      <th>Campaign ID</th>\n",
              "      <th>Campaign Optimization</th>\n",
              "      <th>Campaign Type</th>\n",
              "      <th>Context IDs Eligible</th>\n",
              "      <th>Number of displays</th>\n",
              "      <th>Number of clicks</th>\n",
              "      <th>Criteo Revenue</th>\n",
              "      <th>Criteo Cost</th>\n",
              "      <th>weekday</th>\n",
              "    </tr>\n",
              "  </thead>\n",
              "  <tbody>\n",
              "    <tr>\n",
              "      <th>0</th>\n",
              "      <td>2019-10-13</td>\n",
              "      <td>app</td>\n",
              "      <td>Android</td>\n",
              "      <td>194439</td>\n",
              "      <td>Visit Optimization</td>\n",
              "      <td>MID FUNNEL CUSTOM</td>\n",
              "      <td>0-6,10</td>\n",
              "      <td>11487</td>\n",
              "      <td>199</td>\n",
              "      <td>1.223468</td>\n",
              "      <td>0.635936</td>\n",
              "      <td>6</td>\n",
              "    </tr>\n",
              "    <tr>\n",
              "      <th>1</th>\n",
              "      <td>2019-10-16</td>\n",
              "      <td>web</td>\n",
              "      <td>Windows</td>\n",
              "      <td>194439</td>\n",
              "      <td>Visit Optimization</td>\n",
              "      <td>MID FUNNEL CUSTOM</td>\n",
              "      <td>0-6,10</td>\n",
              "      <td>0</td>\n",
              "      <td>0</td>\n",
              "      <td>0.000000</td>\n",
              "      <td>0.000000</td>\n",
              "      <td>2</td>\n",
              "    </tr>\n",
              "    <tr>\n",
              "      <th>2</th>\n",
              "      <td>2019-11-08</td>\n",
              "      <td>app</td>\n",
              "      <td>Android</td>\n",
              "      <td>194439</td>\n",
              "      <td>Visit Optimization</td>\n",
              "      <td>MID FUNNEL CUSTOM</td>\n",
              "      <td>0-6,10</td>\n",
              "      <td>0</td>\n",
              "      <td>0</td>\n",
              "      <td>0.000000</td>\n",
              "      <td>0.000000</td>\n",
              "      <td>4</td>\n",
              "    </tr>\n",
              "    <tr>\n",
              "      <th>3</th>\n",
              "      <td>2019-10-11</td>\n",
              "      <td>web</td>\n",
              "      <td>Mac OS</td>\n",
              "      <td>194439</td>\n",
              "      <td>Visit Optimization</td>\n",
              "      <td>MID FUNNEL CUSTOM</td>\n",
              "      <td>0-6,10</td>\n",
              "      <td>2102</td>\n",
              "      <td>21</td>\n",
              "      <td>1.392722</td>\n",
              "      <td>0.842206</td>\n",
              "      <td>4</td>\n",
              "    </tr>\n",
              "    <tr>\n",
              "      <th>4</th>\n",
              "      <td>2019-10-16</td>\n",
              "      <td>app</td>\n",
              "      <td>Android</td>\n",
              "      <td>194439</td>\n",
              "      <td>Visit Optimization</td>\n",
              "      <td>MID FUNNEL CUSTOM</td>\n",
              "      <td>0-6,10</td>\n",
              "      <td>0</td>\n",
              "      <td>0</td>\n",
              "      <td>0.000000</td>\n",
              "      <td>0.000000</td>\n",
              "      <td>2</td>\n",
              "    </tr>\n",
              "  </tbody>\n",
              "</table>\n",
              "</div>"
            ],
            "text/plain": [
              "          Day Environment       Os  ...  Criteo Revenue Criteo Cost weekday\n",
              "0  2019-10-13         app  Android  ...        1.223468    0.635936       6\n",
              "1  2019-10-16         web  Windows  ...        0.000000    0.000000       2\n",
              "2  2019-11-08         app  Android  ...        0.000000    0.000000       4\n",
              "3  2019-10-11         web   Mac OS  ...        1.392722    0.842206       4\n",
              "4  2019-10-16         app  Android  ...        0.000000    0.000000       2\n",
              "\n",
              "[5 rows x 12 columns]"
            ]
          },
          "metadata": {
            "tags": []
          },
          "execution_count": 60
        }
      ]
    },
    {
      "cell_type": "code",
      "metadata": {
        "id": "qryCrV3Rq3jm",
        "colab_type": "code",
        "outputId": "560ba743-22e2-4cb2-9cda-177276c6d80a",
        "colab": {
          "base_uri": "https://localhost:8080/",
          "height": 302
        }
      },
      "source": [
        "fig = plt.figure(figsize=(100,100))\n",
        "\n",
        "fig, ax = plt.subplots(1)\n",
        "\n",
        "ax.bar( margin, weekday)\n",
        "\n",
        "ax.set_title('the margin over week') \n",
        "\n",
        "\n",
        "plt.show()"
      ],
      "execution_count": 61,
      "outputs": [
        {
          "output_type": "display_data",
          "data": {
            "text/plain": [
              "<Figure size 7200x7200 with 0 Axes>"
            ]
          },
          "metadata": {
            "tags": []
          }
        },
        {
          "output_type": "display_data",
          "data": {
            "image/png": "[encoded data removed]",
            "text/plain": [
              "<Figure size 432x288 with 1 Axes>"
            ]
          },
          "metadata": {
            "tags": []
          }
        }
      ]
    },
    {
      "cell_type": "markdown",
      "metadata": {
        "id": "l7-42gFdqOhe",
        "colab_type": "text"
      },
      "source": [
        "**Question 2.3:**"
      ]
    },
    {
      "cell_type": "code",
      "metadata": {
        "id": "GeJI3Rps2ah4",
        "colab_type": "code",
        "colab": {
          "base_uri": "https://localhost:8080/",
          "height": 314
        },
        "outputId": "716c6066-a1e0-41c9-f49c-5db6d4edddcc"
      },
      "source": [
        "fig = plt.figure(figsize=(100,100))\n",
        "\n",
        "fig, ax = plt.subplots(1)\n",
        "\n",
        "ax.bar( data2['Number of displays'], margin)\n",
        "\n",
        "ax.set_title('th') \n",
        "\n",
        "\n",
        "plt.show()"
      ],
      "execution_count": 62,
      "outputs": [
        {
          "output_type": "display_data",
          "data": {
            "text/plain": [
              "<Figure size 7200x7200 with 0 Axes>"
            ]
          },
          "metadata": {
            "tags": []
          }
        },
        {
          "output_type": "display_data",
          "data": {
            "image/png": "[encoded data removed]",
            "text/plain": [
              "<Figure size 432x288 with 1 Axes>"
            ]
          },
          "metadata": {
            "tags": []
          }
        }
      ]
    },
    {
      "cell_type": "markdown",
      "metadata": {
        "id": "KFv68nXxqZzV",
        "colab_type": "text"
      },
      "source": [
        "**Question 3:**"
      ]
    },
    {
      "cell_type": "code",
      "metadata": {
        "id": "DgQT7qQIqZUL",
        "colab_type": "code",
        "outputId": "dd155af6-91d6-442d-eb94-09330d78021e",
        "colab": {
          "base_uri": "https://localhost:8080/",
          "height": 417
        }
      },
      "source": [
        "Merge = pd.merge(data1,data2)\n",
        "Merge.head()"
      ],
      "execution_count": 64,
      "outputs": [
        {
          "output_type": "execute_result",
          "data": {
            "text/html": [
              "<div>\n",
              "<style scoped>\n",
              "    .dataframe tbody tr th:only-of-type {\n",
              "        vertical-align: middle;\n",
              "    }\n",
              "\n",
              "    .dataframe tbody tr th {\n",
              "        vertical-align: top;\n",
              "    }\n",
              "\n",
              "    .dataframe thead th {\n",
              "        text-align: right;\n",
              "    }\n",
              "</style>\n",
              "<table border=\"1\" class=\"dataframe\">\n",
              "  <thead>\n",
              "    <tr style=\"text-align: right;\">\n",
              "      <th></th>\n",
              "      <th>Timestamp</th>\n",
              "      <th>Environment</th>\n",
              "      <th>Os</th>\n",
              "      <th>Device</th>\n",
              "      <th>Campaign ID</th>\n",
              "      <th>User ID</th>\n",
              "      <th>Context ID</th>\n",
              "      <th>Transaction ID</th>\n",
              "      <th>Order Value</th>\n",
              "      <th>Day</th>\n",
              "      <th>Campaign Optimization</th>\n",
              "      <th>Campaign Type</th>\n",
              "      <th>Context IDs Eligible</th>\n",
              "      <th>Number of displays</th>\n",
              "      <th>Number of clicks</th>\n",
              "      <th>Criteo Revenue</th>\n",
              "      <th>Criteo Cost</th>\n",
              "      <th>weekday</th>\n",
              "    </tr>\n",
              "  </thead>\n",
              "  <tbody>\n",
              "    <tr>\n",
              "      <th>0</th>\n",
              "      <td>1569889040</td>\n",
              "      <td>web</td>\n",
              "      <td>Windows</td>\n",
              "      <td>Desktop</td>\n",
              "      <td>113450</td>\n",
              "      <td>2EEEE2185BB347E07653128DDD7946B4</td>\n",
              "      <td>6</td>\n",
              "      <td>687260E81F123BF7B22EB42E2CC740D9</td>\n",
              "      <td>32.08</td>\n",
              "      <td>2019-11-17</td>\n",
              "      <td>Conversion Optimization</td>\n",
              "      <td>LOWER FUNNEL CUSTOM</td>\n",
              "      <td>2-6,10</td>\n",
              "      <td>1606181</td>\n",
              "      <td>8793</td>\n",
              "      <td>2293.247236</td>\n",
              "      <td>1320.873010</td>\n",
              "      <td>6</td>\n",
              "    </tr>\n",
              "    <tr>\n",
              "      <th>1</th>\n",
              "      <td>1569889040</td>\n",
              "      <td>web</td>\n",
              "      <td>Windows</td>\n",
              "      <td>Desktop</td>\n",
              "      <td>113450</td>\n",
              "      <td>2EEEE2185BB347E07653128DDD7946B4</td>\n",
              "      <td>6</td>\n",
              "      <td>687260E81F123BF7B22EB42E2CC740D9</td>\n",
              "      <td>32.08</td>\n",
              "      <td>2020-01-23</td>\n",
              "      <td>Conversion Optimization</td>\n",
              "      <td>LOWER FUNNEL CUSTOM</td>\n",
              "      <td>2-6,10</td>\n",
              "      <td>1329158</td>\n",
              "      <td>3979</td>\n",
              "      <td>1441.775243</td>\n",
              "      <td>812.069900</td>\n",
              "      <td>3</td>\n",
              "    </tr>\n",
              "    <tr>\n",
              "      <th>2</th>\n",
              "      <td>1569889040</td>\n",
              "      <td>web</td>\n",
              "      <td>Windows</td>\n",
              "      <td>Desktop</td>\n",
              "      <td>113450</td>\n",
              "      <td>2EEEE2185BB347E07653128DDD7946B4</td>\n",
              "      <td>6</td>\n",
              "      <td>687260E81F123BF7B22EB42E2CC740D9</td>\n",
              "      <td>32.08</td>\n",
              "      <td>2019-12-22</td>\n",
              "      <td>Conversion Optimization</td>\n",
              "      <td>LOWER FUNNEL CUSTOM</td>\n",
              "      <td>2-6,10</td>\n",
              "      <td>327223</td>\n",
              "      <td>2078</td>\n",
              "      <td>325.487455</td>\n",
              "      <td>188.981562</td>\n",
              "      <td>6</td>\n",
              "    </tr>\n",
              "    <tr>\n",
              "      <th>3</th>\n",
              "      <td>1569889040</td>\n",
              "      <td>web</td>\n",
              "      <td>Windows</td>\n",
              "      <td>Desktop</td>\n",
              "      <td>113450</td>\n",
              "      <td>2EEEE2185BB347E07653128DDD7946B4</td>\n",
              "      <td>6</td>\n",
              "      <td>687260E81F123BF7B22EB42E2CC740D9</td>\n",
              "      <td>32.08</td>\n",
              "      <td>2019-12-26</td>\n",
              "      <td>Conversion Optimization</td>\n",
              "      <td>LOWER FUNNEL CUSTOM</td>\n",
              "      <td>2-6,10</td>\n",
              "      <td>461660</td>\n",
              "      <td>2766</td>\n",
              "      <td>485.802541</td>\n",
              "      <td>285.085894</td>\n",
              "      <td>3</td>\n",
              "    </tr>\n",
              "    <tr>\n",
              "      <th>4</th>\n",
              "      <td>1569889040</td>\n",
              "      <td>web</td>\n",
              "      <td>Windows</td>\n",
              "      <td>Desktop</td>\n",
              "      <td>113450</td>\n",
              "      <td>2EEEE2185BB347E07653128DDD7946B4</td>\n",
              "      <td>6</td>\n",
              "      <td>687260E81F123BF7B22EB42E2CC740D9</td>\n",
              "      <td>32.08</td>\n",
              "      <td>2020-01-28</td>\n",
              "      <td>Conversion Optimization</td>\n",
              "      <td>LOWER FUNNEL CUSTOM</td>\n",
              "      <td>2-6,10</td>\n",
              "      <td>1437866</td>\n",
              "      <td>4562</td>\n",
              "      <td>1404.454606</td>\n",
              "      <td>784.938012</td>\n",
              "      <td>1</td>\n",
              "    </tr>\n",
              "  </tbody>\n",
              "</table>\n",
              "</div>"
            ],
            "text/plain": [
              "    Timestamp Environment       Os  ... Criteo Revenue  Criteo Cost weekday\n",
              "0  1569889040         web  Windows  ...    2293.247236  1320.873010       6\n",
              "1  1569889040         web  Windows  ...    1441.775243   812.069900       3\n",
              "2  1569889040         web  Windows  ...     325.487455   188.981562       6\n",
              "3  1569889040         web  Windows  ...     485.802541   285.085894       3\n",
              "4  1569889040         web  Windows  ...    1404.454606   784.938012       1\n",
              "\n",
              "[5 rows x 18 columns]"
            ]
          },
          "metadata": {
            "tags": []
          },
          "execution_count": 64
        }
      ]
    },
    {
      "cell_type": "markdown",
      "metadata": {
        "id": "eoOh5l4kXlRk",
        "colab_type": "text"
      },
      "source": [
        "**Question4:**"
      ]
    },
    {
      "cell_type": "markdown",
      "metadata": {
        "id": "i7vV7RGUXqfO",
        "colab_type": "text"
      },
      "source": [
        "  ** Question 4.1:**"
      ]
    },
    {
      "cell_type": "code",
      "metadata": {
        "id": "AGKB_c7SbjEw",
        "colab_type": "code",
        "outputId": "78d66f62-1b10-4dab-9a03-6b912046ef04",
        "colab": {
          "base_uri": "https://localhost:8080/",
          "height": 267
        }
      },
      "source": [
        "p1=Merge[\"Campaign ID\"]\n",
        "p2=Merge[\"Order Value\"]\n",
        "fig, axs = plt.subplots(1, 3, figsize=(9, 3), sharey=True)\n",
        "axs[0].bar(p1, p2)\n",
        "plt.show()"
      ],
      "execution_count": 0,
      "outputs": [
        {
          "output_type": "display_data",
          "data": {
            "image/png": "[encoded data removed]",
            "text/plain": [
              "<Figure size 432x288 with 1 Axes>"
            ]
          },
          "metadata": {
            "tags": []
          }
        }
      ]
    },
    {
      "cell_type": "code",
      "metadata": {
        "id": "uLyI8ti1qekP",
        "colab_type": "code",
        "outputId": "3bc56383-a4d9-42a5-a04f-7eb0ebbced60",
        "colab": {
          "base_uri": "https://localhost:8080/",
          "height": 302
        }
      },
      "source": [
        "fig = plt.figure(figsize=(20,20))\n",
        "\n",
        "fig, ax = plt.subplots(1)\n",
        "\n",
        "ax.bar( data1['Campaign ID'], data1['Order Value'])\n",
        "\n",
        "ax.set_title('performance') \n",
        "\n",
        "\n",
        "plt.show()"
      ],
      "execution_count": 69,
      "outputs": [
        {
          "output_type": "display_data",
          "data": {
            "text/plain": [
              "<Figure size 1440x1440 with 0 Axes>"
            ]
          },
          "metadata": {
            "tags": []
          }
        },
        {
          "output_type": "display_data",
          "data": {
            "image/png": "[encoded data removed]",
            "text/plain": [
              "<Figure size 432x288 with 1 Axes>"
            ]
          },
          "metadata": {
            "tags": []
          }
        }
      ]
    },
    {
      "cell_type": "markdown",
      "metadata": {
        "id": "VwrIfckiXyce",
        "colab_type": "text"
      },
      "source": [
        "**  Question 4.2:**"
      ]
    },
    {
      "cell_type": "code",
      "metadata": {
        "id": "T1sxflDzdG_W",
        "colab_type": "code",
        "colab": {}
      },
      "source": [
        ""
      ],
      "execution_count": 0,
      "outputs": []
    },
    {
      "cell_type": "markdown",
      "metadata": {
        "id": "wjT-8MebX5em",
        "colab_type": "text"
      },
      "source": [
        " ** Question 4.3:**"
      ]
    },
    {
      "cell_type": "code",
      "metadata": {
        "id": "WQnDSo9FqegR",
        "colab_type": "code",
        "colab": {
          "base_uri": "https://localhost:8080/",
          "height": 1000
        },
        "outputId": "81a02967-afa2-491a-d176-ca1aaed64b5a"
      },
      "source": [
        "m1=Merge[\"Order Value\"]\n",
        "m2=Merge[\"Criteo Cost\"]\n",
        "m3=Merge[\"Campaign Type\"]\n",
        "m=m2/m1\n",
        "fig = plt.figure(figsize=(20,20))\n",
        "plt.plot(m3,m)\n",
        "plt.show()"
      ],
      "execution_count": 68,
      "outputs": [
        {
          "output_type": "display_data",
          "data": {
            "image/png": "[encoded data removed]",
            "text/plain": [
              "<Figure size 1440x1440 with 1 Axes>"
            ]
          },
          "metadata": {
            "tags": []
          }
        }
      ]
    },
    {
      "cell_type": "code",
      "metadata": {
        "id": "Qe-hBn8AqefB",
        "colab_type": "code",
        "colab": {}
      },
      "source": [
        ""
      ],
      "execution_count": 0,
      "outputs": []
    }
  ]
}